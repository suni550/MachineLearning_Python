{
 "cells": [
  {
   "cell_type": "code",
   "execution_count": 1,
   "id": "f02164df",
   "metadata": {},
   "outputs": [],
   "source": [
    "# -*- coding: utf-8 -*-\n",
    "\"\"\"\n",
    "Created on Tue Feb  1 07:47:55 2022\n",
    "\n",
    "@author: bobbala\n",
    "\"\"\"\n",
    "import cv2\n",
    "import os\n",
    "import numpy as np"
   ]
  },
  {
   "attachments": {
    "image-2.png": {
     "image/png": "[encoded data removed]"
    }
   },
   "cell_type": "markdown",
   "id": "dd007e6f",
   "metadata": {},
   "source": [
    "## getImagesAndLabels(directory): \n",
    "#### input: directory -> root directory of the dataset: in my case it is 'Samples'\n",
    "![image-2.png](attachment:image-2.png)\n",
    "#### output: returns two array 1. face features and face lables\n",
    "### Description: \n",
    "- This function reads each from the specified directory by walking through the 'Samples' directory\n",
    "* Do the faceDetection() \n",
    "- Cropping only face from entire image then append the faces and ids to the return arrays"
   ]
  },
  {
   "cell_type": "code",
   "execution_count": 2,
   "id": "815f188f",
   "metadata": {},
   "outputs": [],
   "source": [
    "def getImagesAndLabels(directory):\n",
    "    features=[]\n",
    "    labels=[]\n",
    "\n",
    "    for (path, dir, filenames) in os.walk(directory):\n",
    "\n",
    "        for filename in filenames:\n",
    "            id=os.path.basename(path) #fetching subdirectory names\n",
    "            img_path=os.path.join(path,filename)#fetching image path\n",
    "\n",
    "            if filename.startswith(\".\"):\n",
    "                print(\"Skipping system file\")#Skipping files that startwith .\n",
    "                continue\n",
    "\n",
    "            img = cv2.imread(img_path) # Read each image one by one\n",
    "            if img is None:\n",
    "                print(\"image not captured properly\")\n",
    "                continue\n",
    "\n",
    "            faces_rect, gray_img = faceDetection(img)\n",
    "\n",
    "            print(\"img_path:\",img_path)\n",
    "            print(\"id:\",id)\n",
    "\n",
    "           # img = drawRectangle(faces_rect, img)\n",
    "\n",
    "            (x,y,w,h)=faces_rect[0]\n",
    "            put_text(img, str([id]),x,y)\n",
    "            roi_gray=gray_img[y:y+w,x:x+h]#cropping region of interest i.e. face area from grayscale image\n",
    "            features.append(roi_gray)\n",
    "            labels.append(int(id))\n",
    "\n",
    "    return features,labels"
   ]
  },
  {
   "cell_type": "markdown",
   "id": "f1be881f",
   "metadata": {},
   "source": [
    "## faceDetection(image)\n",
    "#### input: taking image as input \n",
    "#### output: returns gray image and faces returned from 'MultiScale()\n",
    "\n",
    "Description: converts input image into gray image as 'CascadeClassifier' works better on gray \n",
    "images. \n",
    "- using detectMultiScale(gray_img,1.3,5) detects faces. This function takes 3 input parameters \n",
    "    - gray image: on which it will detect faces \n",
    "    - scaling factor: specifies how much the image size is reduced at each image scale (for better results use 1.3)\n",
    "    - minNeighbors: How many neighbors each rectangle should have (for better results use 5) "
   ]
  },
  {
   "cell_type": "code",
   "execution_count": 3,
   "id": "7dac1466",
   "metadata": {},
   "outputs": [],
   "source": [
    "def faceDetection(tmp_img):\n",
    "    gray_img=cv2.cvtColor(tmp_img,cv2.COLOR_BGR2GRAY)#convert color image to grayscale\n",
    "    face_haar_cascade=cv2.CascadeClassifier('Haarcascades/haarcascade_frontalface_default.xml')#Load haar classifier\n",
    "\n",
    "    faces=face_haar_cascade.detectMultiScale(gray_img,1.3,5)#detectMultiScale returns rectangles\n",
    "    print(\"face detected:\",faces)\n",
    "    return faces,gray_img"
   ]
  },
  {
   "cell_type": "markdown",
   "id": "5f8043bc",
   "metadata": {},
   "source": [
    "## drawRectangle(faces, img)\n",
    "#### input: faces and image\n",
    "#### output: image \n",
    "### Description: This function takes faces and image as input and draw rectangle box over the image\n"
   ]
  },
  {
   "cell_type": "code",
   "execution_count": 5,
   "id": "280659aa",
   "metadata": {},
   "outputs": [],
   "source": [
    "def drawRectangle(faces, img):\n",
    "    for(x,y,w,h) in faces:\n",
    "        cv2.rectangle(img, (x,y), (x+w, y+h), (0,0,255), 2)\n",
    "       # cv2.imshow(\"Image\", img)\n",
    "       # cv2.waitKey(10)\n",
    "        return img"
   ]
  },
  {
   "cell_type": "markdown",
   "id": "4120758c",
   "metadata": {},
   "source": [
    "## put_text(img, text, x, y) \n",
    "#### input: image, text, x, y \n",
    "#### output: None \n",
    "\n",
    "### Description: This function writes a text message over the image at specified co-ordinates. this function takes 3 arguments 1. image on which we want to write text 2. The text to put on image and co-ordinates of x and y \n",
    " - Function cv2.putText take the following arguments \n",
    "     - image: on which we want to write text message.\n",
    "     - text: text message you want to write. \n",
    "     - x,y: co-ordiantes at which location we want to write text \n",
    "     - font: font type \n",
    "     - fontScale: scale of font \n",
    "     - color: color of the text \n",
    "     - thicknes: line thicknes and text message thickness"
   ]
  },
  {
   "cell_type": "code",
   "execution_count": 6,
   "id": "306b12be",
   "metadata": {},
   "outputs": [
    {
     "name": "stdout",
     "output_type": "stream",
     "text": [
      "Model Trained Sucessfully\n"
     ]
    }
   ],
   "source": [
    "#FONT_HERSHEY_DUPLEX\n",
    "def put_text(img, text, x, y):\n",
    "    font = cv2.FONT_HERSHEY_COMPLEX \n",
    "    fontScale = 1\n",
    "    color = (255,0,0)\n",
    "    thickness = 2\n",
    "    cv2.putText(img,text, (x,y),font, fontScale,color,thickness)\n",
    "    #cv2.putText(img, text, org, fontFace, fontScale, color)\n",
    "\n"
   ]
  },
  {
   "cell_type": "markdown",
   "id": "d6fba480",
   "metadata": {},
   "source": [
    "## Here first creating an object of LBPHF. Using thie object call 'train' method which takes two arrays (faces, faceIds) as inputs."
   ]
  },
  {
   "cell_type": "code",
   "execution_count": 4,
   "id": "f6df728b",
   "metadata": {},
   "outputs": [],
   "source": [
    "def train_classifier(faces,faceID):\n",
    "    face_recognizer=cv2.face.LBPHFaceRecognizer_create()\n",
    "    face_recognizer.train(faces,np.array(faceID))\n",
    "    face_recognizer.write('trainingData.yml')\n",
    "    return face_recognizer"
   ]
  },
  {
   "cell_type": "code",
   "execution_count": null,
   "id": "ffd1e81b",
   "metadata": {},
   "outputs": [],
   "source": [
    "# faces,faceID = getImagesAndLabels('Samples')\n",
    "# cv2.destroyAllWindows()\n",
    "# face_recognizer = train_classifier(faces,faceID)\n",
    "\n",
    "# # save the training data in yml file\n",
    "# face_recognizer.write('trainingData.yml')\n",
    "\n",
    "print(\"Model Trained Sucessfully\")"
   ]
  }
 ],
 "metadata": {
  "kernelspec": {
   "display_name": "Python 3 (ipykernel)",
   "language": "python",
   "name": "python3"
  },
  "language_info": {
   "codemirror_mode": {
    "name": "ipython",
    "version": 3
   },
   "file_extension": ".py",
   "mimetype": "text/x-python",
   "name": "python",
   "nbconvert_exporter": "python",
   "pygments_lexer": "ipython3",
   "version": "3.8.12"
  }
 },
 "nbformat": 4,
 "nbformat_minor": 5
}
