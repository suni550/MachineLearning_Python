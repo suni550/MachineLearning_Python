{
 "cells": [
  {
   "cell_type": "markdown",
   "id": "a81fbbdd",
   "metadata": {},
   "source": [
    "# Activity 4: Create python file to convert video into image\n",
    "# - Import required packages cv2\n",
    "# - Create while loop to convert video to image until ‘spacebar’ key is pressed\n",
    "# - Justify why you are using the techniques\n",
    "# - Prepare one page report for the above Project Activity"
   ]
  },
  {
   "cell_type": "code",
   "execution_count": 3,
   "id": "07e2bd25",
   "metadata": {},
   "outputs": [],
   "source": [
    "# -*- coding: utf-8 -*-\n",
    "\"\"\"\n",
    "Created on Sat Jan 29 13:00:34 2022\n",
    "@author: bobbala\n",
    "\"\"\"\n",
    "import cv2 \n",
    "import os"
   ]
  },
  {
   "cell_type": "markdown",
   "id": "641bf9d7",
   "metadata": {},
   "source": [
    "### For each person create a different directory. \n",
    "- In this section, first enter the person id. \n",
    "    -- if id already exists, recaptures the images. \n",
    "    -- else it will create user input id and captures images. \n",
    "    \n",
    "- Open webcam cv2.VideoCapture(0) -> id '0' indicates built-in webcam. If more webcams give different ids\n",
    "- Read frame by frame.\n",
    "  - if 'ret' is not true continue (means no frame captured)\n",
    "- from the image, crop only region of interest which is face\n",
    "- write/save the image in the path provided. \n",
    "- Wait until frames are 100 or 'spacebar' key is pressed. \n",
    "- before leaving the application release all the resources. "
   ]
  },
  {
   "cell_type": "code",
   "execution_count": 2,
   "id": "bef294db",
   "metadata": {},
   "outputs": [
    {
     "name": "stdout",
     "output_type": "stream",
     "text": [
      "enter person id:88\n",
      "New folder with person_id  88 is created\n",
      "Colleting Samples Completed\n"
     ]
    }
   ],
   "source": [
    "# Create different directories for different persons\n",
    "person_id = int(input(\"enter person id:\"))\n",
    "\n",
    "if((os.path.isdir('Samples/' + str(person_id)))):\n",
    "    print(\"person_id \", person_id, \"Already exists; (Re)capture the images\")\n",
    "    pass\n",
    "else: \n",
    "    os.makedirs('Samples/' + str(person_id))\n",
    "    print(\"New folder with person_id \", person_id, \"is created\")\n",
    "\n",
    "face_classifier = cv2.CascadeClassifier(r\"Haarcascades/haarcascade_frontalface_default.xml\")\n",
    "\n",
    "def face_extractor(img):\n",
    "    faces = face_classifier.detectMultiScale(img,1.3,5)\n",
    "    for(x,y,w,h) in faces:\n",
    "        cropped_face = img[y-35:y+h+35, x-35:x+w+35]\n",
    "        return cropped_face\n",
    "\n",
    "    return 0\n",
    "\n",
    "count = 0\n",
    "cap = cv2.VideoCapture(0)\n",
    "\n",
    "while True: \n",
    "    ret, frame = cap.read()\n",
    "\n",
    "    if not ret:\n",
    "        continue\n",
    "\n",
    "    if face_extractor(frame) is not None:\n",
    "        count+=1\n",
    "\n",
    "        face = cv2.resize(face_extractor(frame),(250,250))\n",
    "        file_name_path = r'Samples/' + str(person_id) + '/' + 'frame' + str(count)+'.jpg'\n",
    "        cv2.imwrite(file_name_path, face)\n",
    " \n",
    "        cv2.putText(face, str(count), (100,100), cv2.FONT_HERSHEY_COMPLEX,1, (0,255,0), 2)\n",
    "        cv2.imshow('Face Cropper', face)\n",
    "    else:\n",
    "        print(\"Face not Found\")\n",
    "        pass\n",
    "\n",
    "    if cv2.waitKey(1) == 32 or count == 100:\n",
    "        break\n",
    "\n",
    "cap.release()\n",
    "cv2.destroyAllWindows()\n",
    "print(\"Colleting Samples Completed\")"
   ]
  },
  {
   "cell_type": "code",
   "execution_count": null,
   "id": "56c974cb",
   "metadata": {},
   "outputs": [],
   "source": []
  }
 ],
 "metadata": {
  "kernelspec": {
   "display_name": "Python 3 (ipykernel)",
   "language": "python",
   "name": "python3"
  },
  "language_info": {
   "codemirror_mode": {
    "name": "ipython",
    "version": 3
   },
   "file_extension": ".py",
   "mimetype": "text/x-python",
   "name": "python",
   "nbconvert_exporter": "python",
   "pygments_lexer": "ipython3",
   "version": "3.8.12"
  }
 },
 "nbformat": 4,
 "nbformat_minor": 5
}
