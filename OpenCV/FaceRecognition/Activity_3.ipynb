{
 "cells": [
  {
   "cell_type": "markdown",
   "id": "45a83a4e",
   "metadata": {},
   "source": [
    "### First import the file Activity_2 or its functions "
   ]
  },
  {
   "cell_type": "code",
   "execution_count": 1,
   "id": "e720674d",
   "metadata": {},
   "outputs": [
    {
     "name": "stdout",
     "output_type": "stream",
     "text": [
      "Model Trained Sucessfully\n"
     ]
    }
   ],
   "source": [
    "# -*- coding: utf-8 -*-\n",
    "\"\"\"\n",
    "Created on Wed Feb  2 05:37:23 2022\n",
    "@author: bobbala\n",
    "\"\"\"\n",
    "\n",
    "import cv2\n",
    "import Activity_2\n",
    "from Activity_2 import faceDetection, drawRectangle, put_text"
   ]
  },
  {
   "cell_type": "markdown",
   "id": "7d1fd438",
   "metadata": {},
   "source": [
    "#### Here first creating an object of LBPHF. Using thie object call 'train' method which takes two arrays (faces, faceIds) as inputs.\n",
    "#### lastly save the model as trainingData. \n",
    "#### Dont run this part of the code second time unless there is change in the training dataset."
   ]
  },
  {
   "cell_type": "code",
   "execution_count": null,
   "id": "4a82ecd4",
   "metadata": {},
   "outputs": [],
   "source": [
    "# This part of section creates trained model. If no change in dataset no need to run second time.\n",
    "directory = \"Samples\"\n",
    "\n",
    "# Execute the following functions only once unless there is a change in training data.\n",
    "# faces,faceID = Activity_2.getImagesAndLabels('Samples')\n",
    "# cv2.destroyAllWindows()\n",
    "# face_recognizer = Activity_2.train_classifier(faces,faceID)\n",
    "# face_recognizer.write('trainingData.yml')"
   ]
  },
  {
   "attachments": {
    "image-2.png": {
     "image/png": "[encoded data removed]"
    },
    "image.png": {
     "image/png": "[encoded data removed]"
    }
   },
   "cell_type": "markdown",
   "id": "e5cf6ad2",
   "metadata": {},
   "source": [
    "#### In below section, first read the trained yml file \n",
    "#### Read test image \n",
    "#### Call the predict method to predict the test image. This function returns 1. id of the person and 2. confidence level. \n",
    "\n",
    "- Create a list 'names' based on the training dataset. In the training data set I provided two persons datasets with ids 1 and 2. So create 'names' list with those two persons names + names[0] as 'None' because, the training ids of persons starts with 1. If the training dataset ids starts with '0' then no need to give names[0] = 'None' \n",
    "![image.png](attachment:image.png)\n",
    "\n",
    "- If ids of training data sets starts with 0 as shown below then 'list 'names' = ['Vanisha', 'Sunil']; no need to use names[0] = 'None'. \n",
    "![image-2.png](attachment:image-2.png)\n",
    "\n",
    "- IF the confidence level is <40 do not display the image. \n",
    "- Else, drawthe rectangle around the face, display the name of person and display the image."
   ]
  },
  {
   "cell_type": "code",
   "execution_count": 2,
   "id": "78c487db",
   "metadata": {},
   "outputs": [
    {
     "name": "stdout",
     "output_type": "stream",
     "text": [
      "face detected: [[ 41  40 170 170]]\n",
      "id = 2\n",
      "confidence level: {} 66.61105192124248\n"
     ]
    }
   ],
   "source": [
    "recognizer = cv2.face.LBPHFaceRecognizer_create()\n",
    "recognizer.read('trainingData.yml')\n",
    "\n",
    "cascadePath = 'Haarcascades/haarcascade_frontalface_default.xml'\n",
    "faceCascade = cv2.CascadeClassifier(cascadePath);\n",
    "\n",
    "names = ['None', 'Vanisha', 'Sunil']\n",
    "\n",
    "#img = cv2.imread('Testing/frame75.jpg') # Passing the image not part of training data\n",
    "img = cv2.imread('Testing/frame81.jpg') # Passing the image not part of training data\n",
    "#img = cv2.imread('Testing/frame100.jpg') # Passing the image which is part of the training data\n",
    "\n",
    "faces,gray_img = faceDetection(img)\n",
    "\n",
    "for (x,y,w,h) in faces:\n",
    "    id, confidence = recognizer.predict(gray_img[y:y+h, x:x+w])\n",
    "\n",
    "    confidence = 100- confidence\n",
    "    print(\"id =\",id)\n",
    "    print('confidence level: {}', format(confidence))\n",
    "    if (confidence) <40: \n",
    "        continue\n",
    "    drawRectangle(faces, img)\n",
    "    put_text(img, str(names[id]), x+5, y)\n",
    "\n",
    "img = cv2.resize(img, (500,500))\n",
    "while True:\n",
    "    cv2.imshow(\"Img\", img)\n",
    "    if cv2.waitKey(33 ) == ord('q'):\n",
    "        break\n",
    "\n",
    "cv2.destroyAllWindows()\n"
   ]
  },
  {
   "cell_type": "code",
   "execution_count": null,
   "id": "a5c20f28",
   "metadata": {},
   "outputs": [],
   "source": []
  }
 ],
 "metadata": {
  "kernelspec": {
   "display_name": "Python 3 (ipykernel)",
   "language": "python",
   "name": "python3"
  },
  "language_info": {
   "codemirror_mode": {
    "name": "ipython",
    "version": 3
   },
   "file_extension": ".py",
   "mimetype": "text/x-python",
   "name": "python",
   "nbconvert_exporter": "python",
   "pygments_lexer": "ipython3",
   "version": "3.8.12"
  }
 },
 "nbformat": 4,
 "nbformat_minor": 5
}
